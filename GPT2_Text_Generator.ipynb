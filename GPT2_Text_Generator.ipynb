{
  "nbformat": 4,
  "nbformat_minor": 0,
  "metadata": {
    "colab": {
      "provenance": []
    },
    "kernelspec": {
      "name": "python3",
      "display_name": "Python 3"
    },
    "language_info": {
      "name": "python"
    },
    "widgets": {
      "application/vnd.jupyter.widget-state+json": {
        "f1a37fe81c8b4229ae7e52b99d890496": {
          "model_module": "@jupyter-widgets/controls",
          "model_name": "TextareaModel",
          "model_module_version": "1.5.0",
          "state": {
            "_dom_classes": [],
            "_model_module": "@jupyter-widgets/controls",
            "_model_module_version": "1.5.0",
            "_model_name": "TextareaModel",
            "_view_count": null,
            "_view_module": "@jupyter-widgets/controls",
            "_view_module_version": "1.5.0",
            "_view_name": "TextareaView",
            "continuous_update": true,
            "description": "Your Prompt:",
            "description_tooltip": null,
            "disabled": false,
            "layout": "IPY_MODEL_45db7adf03ad4ee9add4144370333535",
            "placeholder": "Type your own prompt here...",
            "rows": null,
            "style": "IPY_MODEL_8b6a8c85eb264368bbb11a428b4af821",
            "value": "me my friend laughing like hell and she beat me"
          }
        },
        "45db7adf03ad4ee9add4144370333535": {
          "model_module": "@jupyter-widgets/base",
          "model_name": "LayoutModel",
          "model_module_version": "1.2.0",
          "state": {
            "_model_module": "@jupyter-widgets/base",
            "_model_module_version": "1.2.0",
            "_model_name": "LayoutModel",
            "_view_count": null,
            "_view_module": "@jupyter-widgets/base",
            "_view_module_version": "1.2.0",
            "_view_name": "LayoutView",
            "align_content": null,
            "align_items": null,
            "align_self": null,
            "border": null,
            "bottom": null,
            "display": null,
            "flex": null,
            "flex_flow": null,
            "grid_area": null,
            "grid_auto_columns": null,
            "grid_auto_flow": null,
            "grid_auto_rows": null,
            "grid_column": null,
            "grid_gap": null,
            "grid_row": null,
            "grid_template_areas": null,
            "grid_template_columns": null,
            "grid_template_rows": null,
            "height": "120px",
            "justify_content": null,
            "justify_items": null,
            "left": null,
            "margin": null,
            "max_height": null,
            "max_width": null,
            "min_height": null,
            "min_width": null,
            "object_fit": null,
            "object_position": null,
            "order": null,
            "overflow": null,
            "overflow_x": null,
            "overflow_y": null,
            "padding": null,
            "right": null,
            "top": null,
            "visibility": null,
            "width": "600px"
          }
        },
        "8b6a8c85eb264368bbb11a428b4af821": {
          "model_module": "@jupyter-widgets/controls",
          "model_name": "DescriptionStyleModel",
          "model_module_version": "1.5.0",
          "state": {
            "_model_module": "@jupyter-widgets/controls",
            "_model_module_version": "1.5.0",
            "_model_name": "DescriptionStyleModel",
            "_view_count": null,
            "_view_module": "@jupyter-widgets/base",
            "_view_module_version": "1.2.0",
            "_view_name": "StyleView",
            "description_width": ""
          }
        },
        "bb8b992777f44805877b822d854b7f7f": {
          "model_module": "@jupyter-widgets/controls",
          "model_name": "DropdownModel",
          "model_module_version": "1.5.0",
          "state": {
            "_dom_classes": [],
            "_model_module": "@jupyter-widgets/controls",
            "_model_module_version": "1.5.0",
            "_model_name": "DropdownModel",
            "_options_labels": [
              "Normal",
              "Funny",
              "Poetic",
              "Sci-fi",
              "Romantic"
            ],
            "_view_count": null,
            "_view_module": "@jupyter-widgets/controls",
            "_view_module_version": "1.5.0",
            "_view_name": "DropdownView",
            "description": "Style:",
            "description_tooltip": null,
            "disabled": false,
            "index": 1,
            "layout": "IPY_MODEL_1c3f0e7dcd314a43bb1e94088b5b3689",
            "style": "IPY_MODEL_52f4153d4ccb467989a6d5a109d05ff5"
          }
        },
        "1c3f0e7dcd314a43bb1e94088b5b3689": {
          "model_module": "@jupyter-widgets/base",
          "model_name": "LayoutModel",
          "model_module_version": "1.2.0",
          "state": {
            "_model_module": "@jupyter-widgets/base",
            "_model_module_version": "1.2.0",
            "_model_name": "LayoutModel",
            "_view_count": null,
            "_view_module": "@jupyter-widgets/base",
            "_view_module_version": "1.2.0",
            "_view_name": "LayoutView",
            "align_content": null,
            "align_items": null,
            "align_self": null,
            "border": null,
            "bottom": null,
            "display": null,
            "flex": null,
            "flex_flow": null,
            "grid_area": null,
            "grid_auto_columns": null,
            "grid_auto_flow": null,
            "grid_auto_rows": null,
            "grid_column": null,
            "grid_gap": null,
            "grid_row": null,
            "grid_template_areas": null,
            "grid_template_columns": null,
            "grid_template_rows": null,
            "height": null,
            "justify_content": null,
            "justify_items": null,
            "left": null,
            "margin": null,
            "max_height": null,
            "max_width": null,
            "min_height": null,
            "min_width": null,
            "object_fit": null,
            "object_position": null,
            "order": null,
            "overflow": null,
            "overflow_x": null,
            "overflow_y": null,
            "padding": null,
            "right": null,
            "top": null,
            "visibility": null,
            "width": "300px"
          }
        },
        "52f4153d4ccb467989a6d5a109d05ff5": {
          "model_module": "@jupyter-widgets/controls",
          "model_name": "DescriptionStyleModel",
          "model_module_version": "1.5.0",
          "state": {
            "_model_module": "@jupyter-widgets/controls",
            "_model_module_version": "1.5.0",
            "_model_name": "DescriptionStyleModel",
            "_view_count": null,
            "_view_module": "@jupyter-widgets/base",
            "_view_module_version": "1.2.0",
            "_view_name": "StyleView",
            "description_width": ""
          }
        },
        "3ab042bf64ce430ea7b962df74551bec": {
          "model_module": "@jupyter-widgets/controls",
          "model_name": "ButtonModel",
          "model_module_version": "1.5.0",
          "state": {
            "_dom_classes": [],
            "_model_module": "@jupyter-widgets/controls",
            "_model_module_version": "1.5.0",
            "_model_name": "ButtonModel",
            "_view_count": null,
            "_view_module": "@jupyter-widgets/controls",
            "_view_module_version": "1.5.0",
            "_view_name": "ButtonView",
            "button_style": "success",
            "description": "Generate",
            "disabled": false,
            "icon": "",
            "layout": "IPY_MODEL_bea0310478b9451ca2c0f6811574e91f",
            "style": "IPY_MODEL_a2a1e5def6b6429a97dc8a19073f2273",
            "tooltip": ""
          }
        },
        "bea0310478b9451ca2c0f6811574e91f": {
          "model_module": "@jupyter-widgets/base",
          "model_name": "LayoutModel",
          "model_module_version": "1.2.0",
          "state": {
            "_model_module": "@jupyter-widgets/base",
            "_model_module_version": "1.2.0",
            "_model_name": "LayoutModel",
            "_view_count": null,
            "_view_module": "@jupyter-widgets/base",
            "_view_module_version": "1.2.0",
            "_view_name": "LayoutView",
            "align_content": null,
            "align_items": null,
            "align_self": null,
            "border": null,
            "bottom": null,
            "display": null,
            "flex": null,
            "flex_flow": null,
            "grid_area": null,
            "grid_auto_columns": null,
            "grid_auto_flow": null,
            "grid_auto_rows": null,
            "grid_column": null,
            "grid_gap": null,
            "grid_row": null,
            "grid_template_areas": null,
            "grid_template_columns": null,
            "grid_template_rows": null,
            "height": null,
            "justify_content": null,
            "justify_items": null,
            "left": null,
            "margin": null,
            "max_height": null,
            "max_width": null,
            "min_height": null,
            "min_width": null,
            "object_fit": null,
            "object_position": null,
            "order": null,
            "overflow": null,
            "overflow_x": null,
            "overflow_y": null,
            "padding": null,
            "right": null,
            "top": null,
            "visibility": null,
            "width": null
          }
        },
        "a2a1e5def6b6429a97dc8a19073f2273": {
          "model_module": "@jupyter-widgets/controls",
          "model_name": "ButtonStyleModel",
          "model_module_version": "1.5.0",
          "state": {
            "_model_module": "@jupyter-widgets/controls",
            "_model_module_version": "1.5.0",
            "_model_name": "ButtonStyleModel",
            "_view_count": null,
            "_view_module": "@jupyter-widgets/base",
            "_view_module_version": "1.2.0",
            "_view_name": "StyleView",
            "button_color": null,
            "font_weight": ""
          }
        },
        "d63d600dd6f04bdbbc2d33cf5ebd9841": {
          "model_module": "@jupyter-widgets/controls",
          "model_name": "ButtonModel",
          "model_module_version": "1.5.0",
          "state": {
            "_dom_classes": [],
            "_model_module": "@jupyter-widgets/controls",
            "_model_module_version": "1.5.0",
            "_model_name": "ButtonModel",
            "_view_count": null,
            "_view_module": "@jupyter-widgets/controls",
            "_view_module_version": "1.5.0",
            "_view_name": "ButtonView",
            "button_style": "info",
            "description": "Save as .txt",
            "disabled": false,
            "icon": "",
            "layout": "IPY_MODEL_68b8c0f7f5ef4acebc03b71211564620",
            "style": "IPY_MODEL_77fbb6ab4d604b7a92e3e44de040a0f1",
            "tooltip": ""
          }
        },
        "68b8c0f7f5ef4acebc03b71211564620": {
          "model_module": "@jupyter-widgets/base",
          "model_name": "LayoutModel",
          "model_module_version": "1.2.0",
          "state": {
            "_model_module": "@jupyter-widgets/base",
            "_model_module_version": "1.2.0",
            "_model_name": "LayoutModel",
            "_view_count": null,
            "_view_module": "@jupyter-widgets/base",
            "_view_module_version": "1.2.0",
            "_view_name": "LayoutView",
            "align_content": null,
            "align_items": null,
            "align_self": null,
            "border": null,
            "bottom": null,
            "display": null,
            "flex": null,
            "flex_flow": null,
            "grid_area": null,
            "grid_auto_columns": null,
            "grid_auto_flow": null,
            "grid_auto_rows": null,
            "grid_column": null,
            "grid_gap": null,
            "grid_row": null,
            "grid_template_areas": null,
            "grid_template_columns": null,
            "grid_template_rows": null,
            "height": null,
            "justify_content": null,
            "justify_items": null,
            "left": null,
            "margin": null,
            "max_height": null,
            "max_width": null,
            "min_height": null,
            "min_width": null,
            "object_fit": null,
            "object_position": null,
            "order": null,
            "overflow": null,
            "overflow_x": null,
            "overflow_y": null,
            "padding": null,
            "right": null,
            "top": null,
            "visibility": null,
            "width": null
          }
        },
        "77fbb6ab4d604b7a92e3e44de040a0f1": {
          "model_module": "@jupyter-widgets/controls",
          "model_name": "ButtonStyleModel",
          "model_module_version": "1.5.0",
          "state": {
            "_model_module": "@jupyter-widgets/controls",
            "_model_module_version": "1.5.0",
            "_model_name": "ButtonStyleModel",
            "_view_count": null,
            "_view_module": "@jupyter-widgets/base",
            "_view_module_version": "1.2.0",
            "_view_name": "StyleView",
            "button_color": null,
            "font_weight": ""
          }
        },
        "1a3fe2fe42c24e6e97e20fbd895e0bda": {
          "model_module": "@jupyter-widgets/controls",
          "model_name": "ButtonModel",
          "model_module_version": "1.5.0",
          "state": {
            "_dom_classes": [],
            "_model_module": "@jupyter-widgets/controls",
            "_model_module_version": "1.5.0",
            "_model_name": "ButtonModel",
            "_view_count": null,
            "_view_module": "@jupyter-widgets/controls",
            "_view_module_version": "1.5.0",
            "_view_name": "ButtonView",
            "button_style": "warning",
            "description": "Download to Device",
            "disabled": false,
            "icon": "",
            "layout": "IPY_MODEL_a0f94e810b0d4809b262d9223d3b0c42",
            "style": "IPY_MODEL_cc650751df1b4e64affad4951d3837c3",
            "tooltip": ""
          }
        },
        "a0f94e810b0d4809b262d9223d3b0c42": {
          "model_module": "@jupyter-widgets/base",
          "model_name": "LayoutModel",
          "model_module_version": "1.2.0",
          "state": {
            "_model_module": "@jupyter-widgets/base",
            "_model_module_version": "1.2.0",
            "_model_name": "LayoutModel",
            "_view_count": null,
            "_view_module": "@jupyter-widgets/base",
            "_view_module_version": "1.2.0",
            "_view_name": "LayoutView",
            "align_content": null,
            "align_items": null,
            "align_self": null,
            "border": null,
            "bottom": null,
            "display": null,
            "flex": null,
            "flex_flow": null,
            "grid_area": null,
            "grid_auto_columns": null,
            "grid_auto_flow": null,
            "grid_auto_rows": null,
            "grid_column": null,
            "grid_gap": null,
            "grid_row": null,
            "grid_template_areas": null,
            "grid_template_columns": null,
            "grid_template_rows": null,
            "height": null,
            "justify_content": null,
            "justify_items": null,
            "left": null,
            "margin": null,
            "max_height": null,
            "max_width": null,
            "min_height": null,
            "min_width": null,
            "object_fit": null,
            "object_position": null,
            "order": null,
            "overflow": null,
            "overflow_x": null,
            "overflow_y": null,
            "padding": null,
            "right": null,
            "top": null,
            "visibility": null,
            "width": null
          }
        },
        "cc650751df1b4e64affad4951d3837c3": {
          "model_module": "@jupyter-widgets/controls",
          "model_name": "ButtonStyleModel",
          "model_module_version": "1.5.0",
          "state": {
            "_model_module": "@jupyter-widgets/controls",
            "_model_module_version": "1.5.0",
            "_model_name": "ButtonStyleModel",
            "_view_count": null,
            "_view_module": "@jupyter-widgets/base",
            "_view_module_version": "1.2.0",
            "_view_name": "StyleView",
            "button_color": null,
            "font_weight": ""
          }
        },
        "e833f3aad1e345a8a540f1f3f080334f": {
          "model_module": "@jupyter-widgets/output",
          "model_name": "OutputModel",
          "model_module_version": "1.0.0",
          "state": {
            "_dom_classes": [],
            "_model_module": "@jupyter-widgets/output",
            "_model_module_version": "1.0.0",
            "_model_name": "OutputModel",
            "_view_count": null,
            "_view_module": "@jupyter-widgets/output",
            "_view_module_version": "1.0.0",
            "_view_name": "OutputView",
            "layout": "IPY_MODEL_3a029614f4cc4a158df2670a556b0040",
            "msg_id": "",
            "outputs": [
              {
                "output_type": "stream",
                "name": "stderr",
                "text": [
                  "Setting `pad_token_id` to `eos_token_id`:50256 for open-end generation.\n"
                ]
              },
              {
                "output_type": "stream",
                "name": "stderr",
                "text": [
                  "Both `max_new_tokens` (=256) and `max_length`(=100) seem to have been set. `max_new_tokens` will take precedence. Please refer to the documentation for more information. (https://huggingface.co/docs/transformers/main/en/main_classes/text_generation)\n"
                ]
              },
              {
                "output_type": "display_data",
                "data": {
                  "text/plain": "<IPython.core.display.HTML object>",
                  "text/html": "<h4>Generated Output (Funny):</h4><p><b>Write a Funny version of this: me my friend laughing like hell and she beat me up pretty easily. She's still fighting for her life so she's gonna get away with anything. I'm a real life guy and I'll never stop fighting to get her back.\n\n\nI'm not sure why you're making this stuff. I just read this article on the Internet and I'm like, \"What.\"\n\n\nYou know, the people who make this stuff are the ones who make it, right? It's the people who make it that are the people who have to buy it for themselves. And it's the people who bought it for themselves that make it. They're the ones that make it because they're scared. It's like they're afraid that if you don't buy this thing, I'm going to ruin your life. It's like they're scared that if they don't buy this thing, I'm going to ruin your life. It's like they're scared that if you don't buy this thing, I'm going to ruin your life. I'm just one of them and you can't make it up to them.\n\n\nSo you're saying that when you buy something, you can't see it. You can't tell the difference between the two. It's like they're afraid. It's like they're</b></p>"
                },
                "metadata": {}
              }
            ]
          }
        },
        "3a029614f4cc4a158df2670a556b0040": {
          "model_module": "@jupyter-widgets/base",
          "model_name": "LayoutModel",
          "model_module_version": "1.2.0",
          "state": {
            "_model_module": "@jupyter-widgets/base",
            "_model_module_version": "1.2.0",
            "_model_name": "LayoutModel",
            "_view_count": null,
            "_view_module": "@jupyter-widgets/base",
            "_view_module_version": "1.2.0",
            "_view_name": "LayoutView",
            "align_content": null,
            "align_items": null,
            "align_self": null,
            "border": null,
            "bottom": null,
            "display": null,
            "flex": null,
            "flex_flow": null,
            "grid_area": null,
            "grid_auto_columns": null,
            "grid_auto_flow": null,
            "grid_auto_rows": null,
            "grid_column": null,
            "grid_gap": null,
            "grid_row": null,
            "grid_template_areas": null,
            "grid_template_columns": null,
            "grid_template_rows": null,
            "height": null,
            "justify_content": null,
            "justify_items": null,
            "left": null,
            "margin": null,
            "max_height": null,
            "max_width": null,
            "min_height": null,
            "min_width": null,
            "object_fit": null,
            "object_position": null,
            "order": null,
            "overflow": null,
            "overflow_x": null,
            "overflow_y": null,
            "padding": null,
            "right": null,
            "top": null,
            "visibility": null,
            "width": null
          }
        },
        "391e8684bce844908219ff6d57837196": {
          "model_module": "@jupyter-widgets/controls",
          "model_name": "DropdownModel",
          "model_module_version": "1.5.0",
          "state": {
            "_dom_classes": [],
            "_model_module": "@jupyter-widgets/controls",
            "_model_module_version": "1.5.0",
            "_model_name": "DropdownModel",
            "_options_labels": [
              "A futuristic city run by robots",
              "An alien studying human behavior",
              "A storyteller AI exploring emotions"
            ],
            "_view_count": null,
            "_view_module": "@jupyter-widgets/controls",
            "_view_module_version": "1.5.0",
            "_view_name": "DropdownView",
            "description": "Samples:",
            "description_tooltip": null,
            "disabled": false,
            "index": 0,
            "layout": "IPY_MODEL_6dcb8ec19221433f8b3f364c98b88688",
            "style": "IPY_MODEL_48e8bd62246d40c980dfcaea7f1a7fda"
          }
        },
        "6dcb8ec19221433f8b3f364c98b88688": {
          "model_module": "@jupyter-widgets/base",
          "model_name": "LayoutModel",
          "model_module_version": "1.2.0",
          "state": {
            "_model_module": "@jupyter-widgets/base",
            "_model_module_version": "1.2.0",
            "_model_name": "LayoutModel",
            "_view_count": null,
            "_view_module": "@jupyter-widgets/base",
            "_view_module_version": "1.2.0",
            "_view_name": "LayoutView",
            "align_content": null,
            "align_items": null,
            "align_self": null,
            "border": null,
            "bottom": null,
            "display": null,
            "flex": null,
            "flex_flow": null,
            "grid_area": null,
            "grid_auto_columns": null,
            "grid_auto_flow": null,
            "grid_auto_rows": null,
            "grid_column": null,
            "grid_gap": null,
            "grid_row": null,
            "grid_template_areas": null,
            "grid_template_columns": null,
            "grid_template_rows": null,
            "height": null,
            "justify_content": null,
            "justify_items": null,
            "left": null,
            "margin": null,
            "max_height": null,
            "max_width": null,
            "min_height": null,
            "min_width": null,
            "object_fit": null,
            "object_position": null,
            "order": null,
            "overflow": null,
            "overflow_x": null,
            "overflow_y": null,
            "padding": null,
            "right": null,
            "top": null,
            "visibility": null,
            "width": "400px"
          }
        },
        "48e8bd62246d40c980dfcaea7f1a7fda": {
          "model_module": "@jupyter-widgets/controls",
          "model_name": "DescriptionStyleModel",
          "model_module_version": "1.5.0",
          "state": {
            "_model_module": "@jupyter-widgets/controls",
            "_model_module_version": "1.5.0",
            "_model_name": "DescriptionStyleModel",
            "_view_count": null,
            "_view_module": "@jupyter-widgets/base",
            "_view_module_version": "1.2.0",
            "_view_name": "StyleView",
            "description_width": ""
          }
        },
        "f0dee7243c98471091028f80a0bbb688": {
          "model_module": "@jupyter-widgets/controls",
          "model_name": "ButtonModel",
          "model_module_version": "1.5.0",
          "state": {
            "_dom_classes": [],
            "_model_module": "@jupyter-widgets/controls",
            "_model_module_version": "1.5.0",
            "_model_name": "ButtonModel",
            "_view_count": null,
            "_view_module": "@jupyter-widgets/controls",
            "_view_module_version": "1.5.0",
            "_view_name": "ButtonView",
            "button_style": "primary",
            "description": "Insert Sample",
            "disabled": false,
            "icon": "",
            "layout": "IPY_MODEL_c3c4bd7d7c754a748498d759a76ea577",
            "style": "IPY_MODEL_cd94184f82434e86bdf2008a61cf54bd",
            "tooltip": ""
          }
        },
        "c3c4bd7d7c754a748498d759a76ea577": {
          "model_module": "@jupyter-widgets/base",
          "model_name": "LayoutModel",
          "model_module_version": "1.2.0",
          "state": {
            "_model_module": "@jupyter-widgets/base",
            "_model_module_version": "1.2.0",
            "_model_name": "LayoutModel",
            "_view_count": null,
            "_view_module": "@jupyter-widgets/base",
            "_view_module_version": "1.2.0",
            "_view_name": "LayoutView",
            "align_content": null,
            "align_items": null,
            "align_self": null,
            "border": null,
            "bottom": null,
            "display": null,
            "flex": null,
            "flex_flow": null,
            "grid_area": null,
            "grid_auto_columns": null,
            "grid_auto_flow": null,
            "grid_auto_rows": null,
            "grid_column": null,
            "grid_gap": null,
            "grid_row": null,
            "grid_template_areas": null,
            "grid_template_columns": null,
            "grid_template_rows": null,
            "height": null,
            "justify_content": null,
            "justify_items": null,
            "left": null,
            "margin": null,
            "max_height": null,
            "max_width": null,
            "min_height": null,
            "min_width": null,
            "object_fit": null,
            "object_position": null,
            "order": null,
            "overflow": null,
            "overflow_x": null,
            "overflow_y": null,
            "padding": null,
            "right": null,
            "top": null,
            "visibility": null,
            "width": null
          }
        },
        "cd94184f82434e86bdf2008a61cf54bd": {
          "model_module": "@jupyter-widgets/controls",
          "model_name": "ButtonStyleModel",
          "model_module_version": "1.5.0",
          "state": {
            "_model_module": "@jupyter-widgets/controls",
            "_model_module_version": "1.5.0",
            "_model_name": "ButtonStyleModel",
            "_view_count": null,
            "_view_module": "@jupyter-widgets/base",
            "_view_module_version": "1.2.0",
            "_view_name": "StyleView",
            "button_color": null,
            "font_weight": ""
          }
        }
      }
    }
  },
  "cells": [
    {
      "cell_type": "code",
      "source": [
        "# 📦 Install required libraries\n",
        "!pip install -q transformers ipywidgets\n",
        "\n",
        "# 🔁 Imports\n",
        "from transformers import pipeline, AutoTokenizer, AutoModelForCausalLM\n",
        "from IPython.display import display, HTML\n",
        "import ipywidgets as widgets\n",
        "import io\n",
        "from google.colab import files\n",
        "\n",
        "# 🧠 Load GPT-2 model + tokenizer\n",
        "tokenizer = AutoTokenizer.from_pretrained(\"gpt2\")\n",
        "model = AutoModelForCausalLM.from_pretrained(\"gpt2\")\n",
        "generator = pipeline(\"text-generation\", model=model, tokenizer=tokenizer)\n",
        "\n",
        "# ✍️ Input Widgets\n",
        "custom_prompt = widgets.Textarea(\n",
        "    placeholder='Type your own prompt here...',\n",
        "    description='Your Prompt:',\n",
        "    layout=widgets.Layout(width='600px', height='120px')\n",
        ")\n",
        "\n",
        "style_selector = widgets.Dropdown(\n",
        "    options=[\"Normal\", \"Funny\", \"Poetic\", \"Sci-fi\", \"Romantic\"],\n",
        "    description='Style:',\n",
        "    layout=widgets.Layout(width='300px')\n",
        ")\n",
        "\n",
        "sample_prompts = [\n",
        "    \"A futuristic city run by robots\",\n",
        "    \"An alien studying human behavior\",\n",
        "    \"A storyteller AI exploring emotions\"\n",
        "]\n",
        "\n",
        "sample_dropdown = widgets.Dropdown(\n",
        "    options=sample_prompts,\n",
        "    description='Samples:',\n",
        "    layout=widgets.Layout(width='400px')\n",
        ")\n",
        "\n",
        "use_sample_button = widgets.Button(description=\"Insert Sample\", button_style='primary')\n",
        "generate_button = widgets.Button(description=\"Generate\", button_style='success')\n",
        "save_button = widgets.Button(description=\"Save as .txt\", button_style='info')\n",
        "download_button = widgets.Button(description=\"Download to Device\", button_style='warning')\n",
        "output_area = widgets.Output()\n",
        "\n",
        "# 🧠 Insert Sample\n",
        "def insert_sample(b):\n",
        "    custom_prompt.value = sample_dropdown.value\n",
        "\n",
        "# ⚡️ Generate Text\n",
        "def run_generation(b):\n",
        "    with output_area:\n",
        "        output_area.clear_output()\n",
        "        raw_input = custom_prompt.value.strip()\n",
        "        style = style_selector.value\n",
        "\n",
        "        if raw_input:\n",
        "            if style != \"Normal\":\n",
        "                full_input = f\"Write a {style} version of this: {raw_input}\"\n",
        "            else:\n",
        "                full_input = raw_input\n",
        "\n",
        "            result = generator(full_input, max_length=100, truncation=True)[0][\"generated_text\"]\n",
        "            output_area.generated_result = result  # Store for saving/download\n",
        "            display(HTML(f\"<h4>Generated Output ({style}):</h4><p><b>{result}</b></p>\"))\n",
        "        else:\n",
        "            display(HTML(\"<p style='color:red'><b>Please enter a prompt first.</b></p>\"))\n",
        "\n",
        "# 📁 Save to Notebook Environment\n",
        "def save_output(b):\n",
        "    if hasattr(output_area, 'generated_result'):\n",
        "        with open(\"generated_text.txt\", \"w\") as f:\n",
        "            f.write(output_area.generated_result)\n",
        "        with output_area:\n",
        "            display(HTML(\"<p><b>✅ Saved as 'generated_text.txt'</b></p>\"))\n",
        "    else:\n",
        "        with output_area:\n",
        "            display(HTML(\"<p style='color:red'><b>No generated text found. Generate first.</b></p>\"))\n",
        "\n",
        "# 📥 Download to Device\n",
        "def download_output(b):\n",
        "    if hasattr(output_area, 'generated_result'):\n",
        "        with open(\"generated_text.txt\", \"w\") as f:\n",
        "            f.write(output_area.generated_result)\n",
        "        files.download('generated_text.txt')\n",
        "    else:\n",
        "        with output_area:\n",
        "            display(HTML(\"<p style='color:red'><b>No generated text available to download.</b></p>\"))\n",
        "\n",
        "# 🔗 Link buttons\n",
        "use_sample_button.on_click(insert_sample)\n",
        "generate_button.on_click(run_generation)\n",
        "save_button.on_click(save_output)\n",
        "download_button.on_click(download_output)\n",
        "\n",
        "# 🎨 Display Layout\n",
        "display(HTML(\"<h3>✨ GPT-2 Interactive Generator</h3>\"))\n",
        "display(custom_prompt, style_selector, generate_button)\n",
        "display(save_button, download_button)\n",
        "display(output_area)\n",
        "display(HTML(\"<br><b>Or pick a sample for inspiration:</b>\"))\n",
        "display(sample_dropdown, use_sample_button)"
      ],
      "metadata": {
        "colab": {
          "base_uri": "https://localhost:8080/",
          "height": 608,
          "referenced_widgets": [
            "f1a37fe81c8b4229ae7e52b99d890496",
            "45db7adf03ad4ee9add4144370333535",
            "8b6a8c85eb264368bbb11a428b4af821",
            "bb8b992777f44805877b822d854b7f7f",
            "1c3f0e7dcd314a43bb1e94088b5b3689",
            "52f4153d4ccb467989a6d5a109d05ff5",
            "3ab042bf64ce430ea7b962df74551bec",
            "bea0310478b9451ca2c0f6811574e91f",
            "a2a1e5def6b6429a97dc8a19073f2273",
            "d63d600dd6f04bdbbc2d33cf5ebd9841",
            "68b8c0f7f5ef4acebc03b71211564620",
            "77fbb6ab4d604b7a92e3e44de040a0f1",
            "1a3fe2fe42c24e6e97e20fbd895e0bda",
            "a0f94e810b0d4809b262d9223d3b0c42",
            "cc650751df1b4e64affad4951d3837c3",
            "e833f3aad1e345a8a540f1f3f080334f",
            "3a029614f4cc4a158df2670a556b0040",
            "391e8684bce844908219ff6d57837196",
            "6dcb8ec19221433f8b3f364c98b88688",
            "48e8bd62246d40c980dfcaea7f1a7fda",
            "f0dee7243c98471091028f80a0bbb688",
            "c3c4bd7d7c754a748498d759a76ea577",
            "cd94184f82434e86bdf2008a61cf54bd"
          ]
        },
        "id": "Fx4VHjmaV-sv",
        "outputId": "3eba46e6-bb36-4330-9ecb-641561e0b764"
      },
      "execution_count": 28,
      "outputs": [
        {
          "output_type": "stream",
          "name": "stderr",
          "text": [
            "Device set to use cpu\n"
          ]
        },
        {
          "output_type": "display_data",
          "data": {
            "text/plain": [
              "<IPython.core.display.HTML object>"
            ],
            "text/html": [
              "<h3>✨ GPT-2 Interactive Generator</h3>"
            ]
          },
          "metadata": {}
        },
        {
          "output_type": "display_data",
          "data": {
            "text/plain": [
              "Textarea(value='', description='Your Prompt:', layout=Layout(height='120px', width='600px'), placeholder='Type…"
            ],
            "application/vnd.jupyter.widget-view+json": {
              "version_major": 2,
              "version_minor": 0,
              "model_id": "f1a37fe81c8b4229ae7e52b99d890496"
            }
          },
          "metadata": {}
        },
        {
          "output_type": "display_data",
          "data": {
            "text/plain": [
              "Dropdown(description='Style:', layout=Layout(width='300px'), options=('Normal', 'Funny', 'Poetic', 'Sci-fi', '…"
            ],
            "application/vnd.jupyter.widget-view+json": {
              "version_major": 2,
              "version_minor": 0,
              "model_id": "bb8b992777f44805877b822d854b7f7f"
            }
          },
          "metadata": {}
        },
        {
          "output_type": "display_data",
          "data": {
            "text/plain": [
              "Button(button_style='success', description='Generate', style=ButtonStyle())"
            ],
            "application/vnd.jupyter.widget-view+json": {
              "version_major": 2,
              "version_minor": 0,
              "model_id": "3ab042bf64ce430ea7b962df74551bec"
            }
          },
          "metadata": {}
        },
        {
          "output_type": "display_data",
          "data": {
            "text/plain": [
              "Button(button_style='info', description='Save as .txt', style=ButtonStyle())"
            ],
            "application/vnd.jupyter.widget-view+json": {
              "version_major": 2,
              "version_minor": 0,
              "model_id": "d63d600dd6f04bdbbc2d33cf5ebd9841"
            }
          },
          "metadata": {}
        },
        {
          "output_type": "display_data",
          "data": {
            "text/plain": [
              "Button(button_style='warning', description='Download to Device', style=ButtonStyle())"
            ],
            "application/vnd.jupyter.widget-view+json": {
              "version_major": 2,
              "version_minor": 0,
              "model_id": "1a3fe2fe42c24e6e97e20fbd895e0bda"
            }
          },
          "metadata": {}
        },
        {
          "output_type": "display_data",
          "data": {
            "text/plain": [
              "Output()"
            ],
            "application/vnd.jupyter.widget-view+json": {
              "version_major": 2,
              "version_minor": 0,
              "model_id": "e833f3aad1e345a8a540f1f3f080334f"
            }
          },
          "metadata": {}
        },
        {
          "output_type": "display_data",
          "data": {
            "text/plain": [
              "<IPython.core.display.HTML object>"
            ],
            "text/html": [
              "<br><b>Or pick a sample for inspiration:</b>"
            ]
          },
          "metadata": {}
        },
        {
          "output_type": "display_data",
          "data": {
            "text/plain": [
              "Dropdown(description='Samples:', layout=Layout(width='400px'), options=('A futuristic city run by robots', 'An…"
            ],
            "application/vnd.jupyter.widget-view+json": {
              "version_major": 2,
              "version_minor": 0,
              "model_id": "391e8684bce844908219ff6d57837196"
            }
          },
          "metadata": {}
        },
        {
          "output_type": "display_data",
          "data": {
            "text/plain": [
              "Button(button_style='primary', description='Insert Sample', style=ButtonStyle())"
            ],
            "application/vnd.jupyter.widget-view+json": {
              "version_major": 2,
              "version_minor": 0,
              "model_id": "f0dee7243c98471091028f80a0bbb688"
            }
          },
          "metadata": {}
        },
        {
          "output_type": "display_data",
          "data": {
            "text/plain": [
              "<IPython.core.display.Javascript object>"
            ],
            "application/javascript": [
              "\n",
              "    async function download(id, filename, size) {\n",
              "      if (!google.colab.kernel.accessAllowed) {\n",
              "        return;\n",
              "      }\n",
              "      const div = document.createElement('div');\n",
              "      const label = document.createElement('label');\n",
              "      label.textContent = `Downloading \"${filename}\": `;\n",
              "      div.appendChild(label);\n",
              "      const progress = document.createElement('progress');\n",
              "      progress.max = size;\n",
              "      div.appendChild(progress);\n",
              "      document.body.appendChild(div);\n",
              "\n",
              "      const buffers = [];\n",
              "      let downloaded = 0;\n",
              "\n",
              "      const channel = await google.colab.kernel.comms.open(id);\n",
              "      // Send a message to notify the kernel that we're ready.\n",
              "      channel.send({})\n",
              "\n",
              "      for await (const message of channel.messages) {\n",
              "        // Send a message to notify the kernel that we're ready.\n",
              "        channel.send({})\n",
              "        if (message.buffers) {\n",
              "          for (const buffer of message.buffers) {\n",
              "            buffers.push(buffer);\n",
              "            downloaded += buffer.byteLength;\n",
              "            progress.value = downloaded;\n",
              "          }\n",
              "        }\n",
              "      }\n",
              "      const blob = new Blob(buffers, {type: 'application/binary'});\n",
              "      const a = document.createElement('a');\n",
              "      a.href = window.URL.createObjectURL(blob);\n",
              "      a.download = filename;\n",
              "      div.appendChild(a);\n",
              "      a.click();\n",
              "      div.remove();\n",
              "    }\n",
              "  "
            ]
          },
          "metadata": {}
        },
        {
          "output_type": "display_data",
          "data": {
            "text/plain": [
              "<IPython.core.display.Javascript object>"
            ],
            "application/javascript": [
              "download(\"download_8d386a78-6985-40cf-ab44-bd9e1eb6c883\", \"generated_text.txt\", 1096)"
            ]
          },
          "metadata": {}
        }
      ]
    }
  ]
}
{
  "nbformat": 4,
  "nbformat_minor": 0,
  "metadata": {
    "colab": {
      "provenance": []
    },
    "kernelspec": {
      "name": "python3",
      "display_name": "Python 3"
    },
    "language_info": {
      "name": "python"
    },
    "widgets": {
      "application/vnd.jupyter.widget-state+json": {
        "fe71663e8d5f4cea807ee13c4cb17b09": {
          "model_module": "@jupyter-widgets/controls",
          "model_name": "TextareaModel",
          "model_module_version": "1.5.0",
          "state": {
            "_dom_classes": [],
            "_model_module": "@jupyter-widgets/controls",
            "_model_module_version": "1.5.0",
            "_model_name": "TextareaModel",
            "_view_count": null,
            "_view_module": "@jupyter-widgets/controls",
            "_view_module_version": "1.5.0",
            "_view_name": "TextareaView",
            "continuous_update": true,
            "description": "Your Prompt:",
            "description_tooltip": null,
            "disabled": false,
            "layout": "IPY_MODEL_bf5d0110969a46c8bf86742351795c0f",
            "placeholder": "Type your own prompt here...",
            "rows": null,
            "style": "IPY_MODEL_0a36d649436f4e449d67d7a0cfe4d76c",
            "value": ""
          }
        },
        "bf5d0110969a46c8bf86742351795c0f": {
          "model_module": "@jupyter-widgets/base",
          "model_name": "LayoutModel",
          "model_module_version": "1.2.0",
          "state": {
            "_model_module": "@jupyter-widgets/base",
            "_model_module_version": "1.2.0",
            "_model_name": "LayoutModel",
            "_view_count": null,
            "_view_module": "@jupyter-widgets/base",
            "_view_module_version": "1.2.0",
            "_view_name": "LayoutView",
            "align_content": null,
            "align_items": null,
            "align_self": null,
            "border": null,
            "bottom": null,
            "display": null,
            "flex": null,
            "flex_flow": null,
            "grid_area": null,
            "grid_auto_columns": null,
            "grid_auto_flow": null,
            "grid_auto_rows": null,
            "grid_column": null,
            "grid_gap": null,
            "grid_row": null,
            "grid_template_areas": null,
            "grid_template_columns": null,
            "grid_template_rows": null,
            "height": "120px",
            "justify_content": null,
            "justify_items": null,
            "left": null,
            "margin": null,
            "max_height": null,
            "max_width": null,
            "min_height": null,
            "min_width": null,
            "object_fit": null,
            "object_position": null,
            "order": null,
            "overflow": null,
            "overflow_x": null,
            "overflow_y": null,
            "padding": null,
            "right": null,
            "top": null,
            "visibility": null,
            "width": "600px"
          }
        },
        "0a36d649436f4e449d67d7a0cfe4d76c": {
          "model_module": "@jupyter-widgets/controls",
          "model_name": "DescriptionStyleModel",
          "model_module_version": "1.5.0",
          "state": {
            "_model_module": "@jupyter-widgets/controls",
            "_model_module_version": "1.5.0",
            "_model_name": "DescriptionStyleModel",
            "_view_count": null,
            "_view_module": "@jupyter-widgets/base",
            "_view_module_version": "1.2.0",
            "_view_name": "StyleView",
            "description_width": ""
          }
        },
        "8dd446cc5c4d434eaae834065b49d84c": {
          "model_module": "@jupyter-widgets/controls",
          "model_name": "DropdownModel",
          "model_module_version": "1.5.0",
          "state": {
            "_dom_classes": [],
            "_model_module": "@jupyter-widgets/controls",
            "_model_module_version": "1.5.0",
            "_model_name": "DropdownModel",
            "_options_labels": [
              "Normal",
              "Funny",
              "Poetic",
              "Sci-fi",
              "Romantic"
            ],
            "_view_count": null,
            "_view_module": "@jupyter-widgets/controls",
            "_view_module_version": "1.5.0",
            "_view_name": "DropdownView",
            "description": "Style:",
            "description_tooltip": null,
            "disabled": false,
            "index": 0,
            "layout": "IPY_MODEL_6a3081494bd54b7d87d078237cbae4a8",
            "style": "IPY_MODEL_31381a20749a412cbcb2e10387a32aac"
          }
        },
        "6a3081494bd54b7d87d078237cbae4a8": {
          "model_module": "@jupyter-widgets/base",
          "model_name": "LayoutModel",
          "model_module_version": "1.2.0",
          "state": {
            "_model_module": "@jupyter-widgets/base",
            "_model_module_version": "1.2.0",
            "_model_name": "LayoutModel",
            "_view_count": null,
            "_view_module": "@jupyter-widgets/base",
            "_view_module_version": "1.2.0",
            "_view_name": "LayoutView",
            "align_content": null,
            "align_items": null,
            "align_self": null,
            "border": null,
            "bottom": null,
            "display": null,
            "flex": null,
            "flex_flow": null,
            "grid_area": null,
            "grid_auto_columns": null,
            "grid_auto_flow": null,
            "grid_auto_rows": null,
            "grid_column": null,
            "grid_gap": null,
            "grid_row": null,
            "grid_template_areas": null,
            "grid_template_columns": null,
            "grid_template_rows": null,
            "height": null,
            "justify_content": null,
            "justify_items": null,
            "left": null,
            "margin": null,
            "max_height": null,
            "max_width": null,
            "min_height": null,
            "min_width": null,
            "object_fit": null,
            "object_position": null,
            "order": null,
            "overflow": null,
            "overflow_x": null,
            "overflow_y": null,
            "padding": null,
            "right": null,
            "top": null,
            "visibility": null,
            "width": "300px"
          }
        },
        "31381a20749a412cbcb2e10387a32aac": {
          "model_module": "@jupyter-widgets/controls",
          "model_name": "DescriptionStyleModel",
          "model_module_version": "1.5.0",
          "state": {
            "_model_module": "@jupyter-widgets/controls",
            "_model_module_version": "1.5.0",
            "_model_name": "DescriptionStyleModel",
            "_view_count": null,
            "_view_module": "@jupyter-widgets/base",
            "_view_module_version": "1.2.0",
            "_view_name": "StyleView",
            "description_width": ""
          }
        },
        "e43cf463288440f28682e58c644f2a69": {
          "model_module": "@jupyter-widgets/controls",
          "model_name": "ButtonModel",
          "model_module_version": "1.5.0",
          "state": {
            "_dom_classes": [],
            "_model_module": "@jupyter-widgets/controls",
            "_model_module_version": "1.5.0",
            "_model_name": "ButtonModel",
            "_view_count": null,
            "_view_module": "@jupyter-widgets/controls",
            "_view_module_version": "1.5.0",
            "_view_name": "ButtonView",
            "button_style": "success",
            "description": "Generate",
            "disabled": false,
            "icon": "",
            "layout": "IPY_MODEL_68dc3517da1545808505bea7f7c373e7",
            "style": "IPY_MODEL_d2467f563f374e8db88a82898588ec28",
            "tooltip": ""
          }
        },
        "68dc3517da1545808505bea7f7c373e7": {
          "model_module": "@jupyter-widgets/base",
          "model_name": "LayoutModel",
          "model_module_version": "1.2.0",
          "state": {
            "_model_module": "@jupyter-widgets/base",
            "_model_module_version": "1.2.0",
            "_model_name": "LayoutModel",
            "_view_count": null,
            "_view_module": "@jupyter-widgets/base",
            "_view_module_version": "1.2.0",
            "_view_name": "LayoutView",
            "align_content": null,
            "align_items": null,
            "align_self": null,
            "border": null,
            "bottom": null,
            "display": null,
            "flex": null,
            "flex_flow": null,
            "grid_area": null,
            "grid_auto_columns": null,
            "grid_auto_flow": null,
            "grid_auto_rows": null,
            "grid_column": null,
            "grid_gap": null,
            "grid_row": null,
            "grid_template_areas": null,
            "grid_template_columns": null,
            "grid_template_rows": null,
            "height": null,
            "justify_content": null,
            "justify_items": null,
            "left": null,
            "margin": null,
            "max_height": null,
            "max_width": null,
            "min_height": null,
            "min_width": null,
            "object_fit": null,
            "object_position": null,
            "order": null,
            "overflow": null,
            "overflow_x": null,
            "overflow_y": null,
            "padding": null,
            "right": null,
            "top": null,
            "visibility": null,
            "width": null
          }
        },
        "d2467f563f374e8db88a82898588ec28": {
          "model_module": "@jupyter-widgets/controls",
          "model_name": "ButtonStyleModel",
          "model_module_version": "1.5.0",
          "state": {
            "_model_module": "@jupyter-widgets/controls",
            "_model_module_version": "1.5.0",
            "_model_name": "ButtonStyleModel",
            "_view_count": null,
            "_view_module": "@jupyter-widgets/base",
            "_view_module_version": "1.2.0",
            "_view_name": "StyleView",
            "button_color": null,
            "font_weight": ""
          }
        },
        "d3be5766edb34a94b2f4b0e3329a9806": {
          "model_module": "@jupyter-widgets/controls",
          "model_name": "ButtonModel",
          "model_module_version": "1.5.0",
          "state": {
            "_dom_classes": [],
            "_model_module": "@jupyter-widgets/controls",
            "_model_module_version": "1.5.0",
            "_model_name": "ButtonModel",
            "_view_count": null,
            "_view_module": "@jupyter-widgets/controls",
            "_view_module_version": "1.5.0",
            "_view_name": "ButtonView",
            "button_style": "info",
            "description": "Save as .txt",
            "disabled": false,
            "icon": "",
            "layout": "IPY_MODEL_b3d70840d94142e6995c021effaff2ac",
            "style": "IPY_MODEL_f763bb566abb4b0d803db436b45c9076",
            "tooltip": ""
          }
        },
        "b3d70840d94142e6995c021effaff2ac": {
          "model_module": "@jupyter-widgets/base",
          "model_name": "LayoutModel",
          "model_module_version": "1.2.0",
          "state": {
            "_model_module": "@jupyter-widgets/base",
            "_model_module_version": "1.2.0",
            "_model_name": "LayoutModel",
            "_view_count": null,
            "_view_module": "@jupyter-widgets/base",
            "_view_module_version": "1.2.0",
            "_view_name": "LayoutView",
            "align_content": null,
            "align_items": null,
            "align_self": null,
            "border": null,
            "bottom": null,
            "display": null,
            "flex": null,
            "flex_flow": null,
            "grid_area": null,
            "grid_auto_columns": null,
            "grid_auto_flow": null,
            "grid_auto_rows": null,
            "grid_column": null,
            "grid_gap": null,
            "grid_row": null,
            "grid_template_areas": null,
            "grid_template_columns": null,
            "grid_template_rows": null,
            "height": null,
            "justify_content": null,
            "justify_items": null,
            "left": null,
            "margin": null,
            "max_height": null,
            "max_width": null,
            "min_height": null,
            "min_width": null,
            "object_fit": null,
            "object_position": null,
            "order": null,
            "overflow": null,
            "overflow_x": null,
            "overflow_y": null,
            "padding": null,
            "right": null,
            "top": null,
            "visibility": null,
            "width": null
          }
        },
        "f763bb566abb4b0d803db436b45c9076": {
          "model_module": "@jupyter-widgets/controls",
          "model_name": "ButtonStyleModel",
          "model_module_version": "1.5.0",
          "state": {
            "_model_module": "@jupyter-widgets/controls",
            "_model_module_version": "1.5.0",
            "_model_name": "ButtonStyleModel",
            "_view_count": null,
            "_view_module": "@jupyter-widgets/base",
            "_view_module_version": "1.2.0",
            "_view_name": "StyleView",
            "button_color": null,
            "font_weight": ""
          }
        },
        "94c6ff6761a14bffbeaeee6fe3d40056": {
          "model_module": "@jupyter-widgets/controls",
          "model_name": "ButtonModel",
          "model_module_version": "1.5.0",
          "state": {
            "_dom_classes": [],
            "_model_module": "@jupyter-widgets/controls",
            "_model_module_version": "1.5.0",
            "_model_name": "ButtonModel",
            "_view_count": null,
            "_view_module": "@jupyter-widgets/controls",
            "_view_module_version": "1.5.0",
            "_view_name": "ButtonView",
            "button_style": "warning",
            "description": "Download to Device",
            "disabled": false,
            "icon": "",
            "layout": "IPY_MODEL_baa94f6a397e4e9a8378d67b6cc6486d",
            "style": "IPY_MODEL_55109c7aee9e4b05a07b355c473143c6",
            "tooltip": ""
          }
        },
        "baa94f6a397e4e9a8378d67b6cc6486d": {
          "model_module": "@jupyter-widgets/base",
          "model_name": "LayoutModel",
          "model_module_version": "1.2.0",
          "state": {
            "_model_module": "@jupyter-widgets/base",
            "_model_module_version": "1.2.0",
            "_model_name": "LayoutModel",
            "_view_count": null,
            "_view_module": "@jupyter-widgets/base",
            "_view_module_version": "1.2.0",
            "_view_name": "LayoutView",
            "align_content": null,
            "align_items": null,
            "align_self": null,
            "border": null,
            "bottom": null,
            "display": null,
            "flex": null,
            "flex_flow": null,
            "grid_area": null,
            "grid_auto_columns": null,
            "grid_auto_flow": null,
            "grid_auto_rows": null,
            "grid_column": null,
            "grid_gap": null,
            "grid_row": null,
            "grid_template_areas": null,
            "grid_template_columns": null,
            "grid_template_rows": null,
            "height": null,
            "justify_content": null,
            "justify_items": null,
            "left": null,
            "margin": null,
            "max_height": null,
            "max_width": null,
            "min_height": null,
            "min_width": null,
            "object_fit": null,
            "object_position": null,
            "order": null,
            "overflow": null,
            "overflow_x": null,
            "overflow_y": null,
            "padding": null,
            "right": null,
            "top": null,
            "visibility": null,
            "width": null
          }
        },
        "55109c7aee9e4b05a07b355c473143c6": {
          "model_module": "@jupyter-widgets/controls",
          "model_name": "ButtonStyleModel",
          "model_module_version": "1.5.0",
          "state": {
            "_model_module": "@jupyter-widgets/controls",
            "_model_module_version": "1.5.0",
            "_model_name": "ButtonStyleModel",
            "_view_count": null,
            "_view_module": "@jupyter-widgets/base",
            "_view_module_version": "1.2.0",
            "_view_name": "StyleView",
            "button_color": null,
            "font_weight": ""
          }
        },
        "fc0e02292f434c9e8710177975c5467d": {
          "model_module": "@jupyter-widgets/output",
          "model_name": "OutputModel",
          "model_module_version": "1.0.0",
          "state": {
            "_dom_classes": [],
            "_model_module": "@jupyter-widgets/output",
            "_model_module_version": "1.0.0",
            "_model_name": "OutputModel",
            "_view_count": null,
            "_view_module": "@jupyter-widgets/output",
            "_view_module_version": "1.0.0",
            "_view_name": "OutputView",
            "layout": "IPY_MODEL_0a5cbaa0d682427abada5f8969785211",
            "msg_id": "",
            "outputs": []
          }
        },
        "0a5cbaa0d682427abada5f8969785211": {
          "model_module": "@jupyter-widgets/base",
          "model_name": "LayoutModel",
          "model_module_version": "1.2.0",
          "state": {
            "_model_module": "@jupyter-widgets/base",
            "_model_module_version": "1.2.0",
            "_model_name": "LayoutModel",
            "_view_count": null,
            "_view_module": "@jupyter-widgets/base",
            "_view_module_version": "1.2.0",
            "_view_name": "LayoutView",
            "align_content": null,
            "align_items": null,
            "align_self": null,
            "border": null,
            "bottom": null,
            "display": null,
            "flex": null,
            "flex_flow": null,
            "grid_area": null,
            "grid_auto_columns": null,
            "grid_auto_flow": null,
            "grid_auto_rows": null,
            "grid_column": null,
            "grid_gap": null,
            "grid_row": null,
            "grid_template_areas": null,
            "grid_template_columns": null,
            "grid_template_rows": null,
            "height": null,
            "justify_content": null,
            "justify_items": null,
            "left": null,
            "margin": null,
            "max_height": null,
            "max_width": null,
            "min_height": null,
            "min_width": null,
            "object_fit": null,
            "object_position": null,
            "order": null,
            "overflow": null,
            "overflow_x": null,
            "overflow_y": null,
            "padding": null,
            "right": null,
            "top": null,
            "visibility": null,
            "width": null
          }
        },
        "8402ff82cd3a4720a77d4dc47f555914": {
          "model_module": "@jupyter-widgets/controls",
          "model_name": "DropdownModel",
          "model_module_version": "1.5.0",
          "state": {
            "_dom_classes": [],
            "_model_module": "@jupyter-widgets/controls",
            "_model_module_version": "1.5.0",
            "_model_name": "DropdownModel",
            "_options_labels": [
              "A futuristic city run by robots",
              "An alien studying human behavior",
              "A storyteller AI exploring emotions"
            ],
            "_view_count": null,
            "_view_module": "@jupyter-widgets/controls",
            "_view_module_version": "1.5.0",
            "_view_name": "DropdownView",
            "description": "Samples:",
            "description_tooltip": null,
            "disabled": false,
            "index": 0,
            "layout": "IPY_MODEL_b336466079b9482b9325ed8ccb113f92",
            "style": "IPY_MODEL_3b486bb8433a4472a6af670eb85fc821"
          }
        },
        "b336466079b9482b9325ed8ccb113f92": {
          "model_module": "@jupyter-widgets/base",
          "model_name": "LayoutModel",
          "model_module_version": "1.2.0",
          "state": {
            "_model_module": "@jupyter-widgets/base",
            "_model_module_version": "1.2.0",
            "_model_name": "LayoutModel",
            "_view_count": null,
            "_view_module": "@jupyter-widgets/base",
            "_view_module_version": "1.2.0",
            "_view_name": "LayoutView",
            "align_content": null,
            "align_items": null,
            "align_self": null,
            "border": null,
            "bottom": null,
            "display": null,
            "flex": null,
            "flex_flow": null,
            "grid_area": null,
            "grid_auto_columns": null,
            "grid_auto_flow": null,
            "grid_auto_rows": null,
            "grid_column": null,
            "grid_gap": null,
            "grid_row": null,
            "grid_template_areas": null,
            "grid_template_columns": null,
            "grid_template_rows": null,
            "height": null,
            "justify_content": null,
            "justify_items": null,
            "left": null,
            "margin": null,
            "max_height": null,
            "max_width": null,
            "min_height": null,
            "min_width": null,
            "object_fit": null,
            "object_position": null,
            "order": null,
            "overflow": null,
            "overflow_x": null,
            "overflow_y": null,
            "padding": null,
            "right": null,
            "top": null,
            "visibility": null,
            "width": "400px"
          }
        },
        "3b486bb8433a4472a6af670eb85fc821": {
          "model_module": "@jupyter-widgets/controls",
          "model_name": "DescriptionStyleModel",
          "model_module_version": "1.5.0",
          "state": {
            "_model_module": "@jupyter-widgets/controls",
            "_model_module_version": "1.5.0",
            "_model_name": "DescriptionStyleModel",
            "_view_count": null,
            "_view_module": "@jupyter-widgets/base",
            "_view_module_version": "1.2.0",
            "_view_name": "StyleView",
            "description_width": ""
          }
        },
        "a530ac19ad174d5697cddaeded0197cc": {
          "model_module": "@jupyter-widgets/controls",
          "model_name": "ButtonModel",
          "model_module_version": "1.5.0",
          "state": {
            "_dom_classes": [],
            "_model_module": "@jupyter-widgets/controls",
            "_model_module_version": "1.5.0",
            "_model_name": "ButtonModel",
            "_view_count": null,
            "_view_module": "@jupyter-widgets/controls",
            "_view_module_version": "1.5.0",
            "_view_name": "ButtonView",
            "button_style": "primary",
            "description": "Insert Sample",
            "disabled": false,
            "icon": "",
            "layout": "IPY_MODEL_0401adacf32c41ea9b6bb8c7f610537c",
            "style": "IPY_MODEL_ff48dc1179d84ac0b9e6534b309e7ee3",
            "tooltip": ""
          }
        },
        "0401adacf32c41ea9b6bb8c7f610537c": {
          "model_module": "@jupyter-widgets/base",
          "model_name": "LayoutModel",
          "model_module_version": "1.2.0",
          "state": {
            "_model_module": "@jupyter-widgets/base",
            "_model_module_version": "1.2.0",
            "_model_name": "LayoutModel",
            "_view_count": null,
            "_view_module": "@jupyter-widgets/base",
            "_view_module_version": "1.2.0",
            "_view_name": "LayoutView",
            "align_content": null,
            "align_items": null,
            "align_self": null,
            "border": null,
            "bottom": null,
            "display": null,
            "flex": null,
            "flex_flow": null,
            "grid_area": null,
            "grid_auto_columns": null,
            "grid_auto_flow": null,
            "grid_auto_rows": null,
            "grid_column": null,
            "grid_gap": null,
            "grid_row": null,
            "grid_template_areas": null,
            "grid_template_columns": null,
            "grid_template_rows": null,
            "height": null,
            "justify_content": null,
            "justify_items": null,
            "left": null,
            "margin": null,
            "max_height": null,
            "max_width": null,
            "min_height": null,
            "min_width": null,
            "object_fit": null,
            "object_position": null,
            "order": null,
            "overflow": null,
            "overflow_x": null,
            "overflow_y": null,
            "padding": null,
            "right": null,
            "top": null,
            "visibility": null,
            "width": null
          }
        },
        "ff48dc1179d84ac0b9e6534b309e7ee3": {
          "model_module": "@jupyter-widgets/controls",
          "model_name": "ButtonStyleModel",
          "model_module_version": "1.5.0",
          "state": {
            "_model_module": "@jupyter-widgets/controls",
            "_model_module_version": "1.5.0",
            "_model_name": "ButtonStyleModel",
            "_view_count": null,
            "_view_module": "@jupyter-widgets/base",
            "_view_module_version": "1.2.0",
            "_view_name": "StyleView",
            "button_color": null,
            "font_weight": ""
          }
        }
      }
    }
  },
  "cells": [
    {
      "cell_type": "code",
      "source": [
        "# 📦 Install required libraries\n",
        "!pip install -q transformers ipywidgets\n",
        "\n",
        "# 🔁 Imports\n",
        "from transformers import pipeline, AutoTokenizer, AutoModelForCausalLM\n",
        "from IPython.display import display, HTML\n",
        "import ipywidgets as widgets\n",
        "import io\n",
        "from google.colab import files\n",
        "\n",
        "# 🧠 Load GPT-2 model + tokenizer\n",
        "tokenizer = AutoTokenizer.from_pretrained(\"gpt2\")\n",
        "model = AutoModelForCausalLM.from_pretrained(\"gpt2\")\n",
        "generator = pipeline(\"text-generation\", model=model, tokenizer=tokenizer)\n",
        "\n",
        "# ✍️ Input Widgets\n",
        "custom_prompt = widgets.Textarea(\n",
        "    placeholder='Type your own prompt here...',\n",
        "    description='Your Prompt:',\n",
        "    layout=widgets.Layout(width='600px', height='120px')\n",
        ")\n",
        "\n",
        "style_selector = widgets.Dropdown(\n",
        "    options=[\"Normal\", \"Funny\", \"Poetic\", \"Sci-fi\", \"Romantic\"],\n",
        "    description='Style:',\n",
        "    layout=widgets.Layout(width='300px')\n",
        ")\n",
        "\n",
        "sample_prompts = [\n",
        "    \"A futuristic city run by robots\",\n",
        "    \"An alien studying human behavior\",\n",
        "    \"A storyteller AI exploring emotions\"\n",
        "]\n",
        "\n",
        "sample_dropdown = widgets.Dropdown(\n",
        "    options=sample_prompts,\n",
        "    description='Samples:',\n",
        "    layout=widgets.Layout(width='400px')\n",
        ")\n",
        "\n",
        "use_sample_button = widgets.Button(description=\"Insert Sample\", button_style='primary')\n",
        "generate_button = widgets.Button(description=\"Generate\", button_style='success')\n",
        "save_button = widgets.Button(description=\"Save as .txt\", button_style='info')\n",
        "download_button = widgets.Button(description=\"Download to Device\", button_style='warning')\n",
        "output_area = widgets.Output()\n",
        "\n",
        "# 🧠 Insert Sample\n",
        "def insert_sample(b):\n",
        "    custom_prompt.value = sample_dropdown.value\n",
        "\n",
        "# ⚡️ Generate Text\n",
        "def run_generation(b):\n",
        "    with output_area:\n",
        "        output_area.clear_output()\n",
        "        raw_input = custom_prompt.value.strip()\n",
        "        style = style_selector.value\n",
        "\n",
        "        if raw_input:\n",
        "            if style != \"Normal\":\n",
        "                full_input = f\"Write a {style} version of this: {raw_input}\"\n",
        "            else:\n",
        "                full_input = raw_input\n",
        "\n",
        "            result = generator(full_input, max_length=100, truncation=True)[0][\"generated_text\"]\n",
        "            output_area.generated_result = result  # Store for saving/download\n",
        "            display(HTML(f\"<h4>Generated Output ({style}):</h4><p><b>{result}</b></p>\"))\n",
        "        else:\n",
        "            display(HTML(\"<p style='color:red'><b>Please enter a prompt first.</b></p>\"))\n",
        "\n",
        "# 📁 Save to Notebook Environment\n",
        "def save_output(b):\n",
        "    if hasattr(output_area, 'generated_result'):\n",
        "        with open(\"generated_text.txt\", \"w\") as f:\n",
        "            f.write(output_area.generated_result)\n",
        "        with output_area:\n",
        "            display(HTML(\"<p><b>✅ Saved as 'generated_text.txt'</b></p>\"))\n",
        "    else:\n",
        "        with output_area:\n",
        "            display(HTML(\"<p style='color:red'><b>No generated text found. Generate first.</b></p>\"))\n",
        "\n",
        "# 📥 Download to Device\n",
        "def download_output(b):\n",
        "    if hasattr(output_area, 'generated_result'):\n",
        "        with open(\"generated_text.txt\", \"w\") as f:\n",
        "            f.write(output_area.generated_result)\n",
        "        files.download('generated_text.txt')\n",
        "    else:\n",
        "        with output_area:\n",
        "            display(HTML(\"<p style='color:red'><b>No generated text available to download.</b></p>\"))\n",
        "\n",
        "# 🔗 Link buttons\n",
        "use_sample_button.on_click(insert_sample)\n",
        "generate_button.on_click(run_generation)\n",
        "save_button.on_click(save_output)\n",
        "download_button.on_click(download_output)\n",
        "\n",
        "# 🎨 Display Layout\n",
        "display(HTML(\"<h3>✨ GPT-2 Interactive Generator</h3>\"))\n",
        "display(custom_prompt, style_selector, generate_button)\n",
        "display(save_button, download_button)\n",
        "display(output_area)\n",
        "display(HTML(\"<br><b>Or pick a sample for inspiration:</b>\"))\n",
        "display(sample_dropdown, use_sample_button)"
      ],
      "metadata": {
        "colab": {
          "base_uri": "https://localhost:8080/",
          "height": 422,
          "referenced_widgets": [
            "fe71663e8d5f4cea807ee13c4cb17b09",
            "bf5d0110969a46c8bf86742351795c0f",
            "0a36d649436f4e449d67d7a0cfe4d76c",
            "8dd446cc5c4d434eaae834065b49d84c",
            "6a3081494bd54b7d87d078237cbae4a8",
            "31381a20749a412cbcb2e10387a32aac",
            "e43cf463288440f28682e58c644f2a69",
            "68dc3517da1545808505bea7f7c373e7",
            "d2467f563f374e8db88a82898588ec28",
            "d3be5766edb34a94b2f4b0e3329a9806",
            "b3d70840d94142e6995c021effaff2ac",
            "f763bb566abb4b0d803db436b45c9076",
            "94c6ff6761a14bffbeaeee6fe3d40056",
            "baa94f6a397e4e9a8378d67b6cc6486d",
            "55109c7aee9e4b05a07b355c473143c6",
            "fc0e02292f434c9e8710177975c5467d",
            "0a5cbaa0d682427abada5f8969785211",
            "8402ff82cd3a4720a77d4dc47f555914",
            "b336466079b9482b9325ed8ccb113f92",
            "3b486bb8433a4472a6af670eb85fc821",
            "a530ac19ad174d5697cddaeded0197cc",
            "0401adacf32c41ea9b6bb8c7f610537c",
            "ff48dc1179d84ac0b9e6534b309e7ee3"
          ]
        },
        "id": "Fx4VHjmaV-sv",
        "outputId": "eadf4a45-5b8c-4211-ecec-00902864994e"
      },
      "execution_count": 29,
      "outputs": [
        {
          "output_type": "stream",
          "name": "stderr",
          "text": [
            "Device set to use cpu\n"
          ]
        },
        {
          "output_type": "display_data",
          "data": {
            "text/plain": [
              "<IPython.core.display.HTML object>"
            ],
            "text/html": [
              "<h3>✨ GPT-2 Interactive Generator</h3>"
            ]
          },
          "metadata": {}
        },
        {
          "output_type": "display_data",
          "data": {
            "text/plain": [
              "Textarea(value='', description='Your Prompt:', layout=Layout(height='120px', width='600px'), placeholder='Type…"
            ],
            "application/vnd.jupyter.widget-view+json": {
              "version_major": 2,
              "version_minor": 0,
              "model_id": "fe71663e8d5f4cea807ee13c4cb17b09"
            }
          },
          "metadata": {}
        },
        {
          "output_type": "display_data",
          "data": {
            "text/plain": [
              "Dropdown(description='Style:', layout=Layout(width='300px'), options=('Normal', 'Funny', 'Poetic', 'Sci-fi', '…"
            ],
            "application/vnd.jupyter.widget-view+json": {
              "version_major": 2,
              "version_minor": 0,
              "model_id": "8dd446cc5c4d434eaae834065b49d84c"
            }
          },
          "metadata": {}
        },
        {
          "output_type": "display_data",
          "data": {
            "text/plain": [
              "Button(button_style='success', description='Generate', style=ButtonStyle())"
            ],
            "application/vnd.jupyter.widget-view+json": {
              "version_major": 2,
              "version_minor": 0,
              "model_id": "e43cf463288440f28682e58c644f2a69"
            }
          },
          "metadata": {}
        },
        {
          "output_type": "display_data",
          "data": {
            "text/plain": [
              "Button(button_style='info', description='Save as .txt', style=ButtonStyle())"
            ],
            "application/vnd.jupyter.widget-view+json": {
              "version_major": 2,
              "version_minor": 0,
              "model_id": "d3be5766edb34a94b2f4b0e3329a9806"
            }
          },
          "metadata": {}
        },
        {
          "output_type": "display_data",
          "data": {
            "text/plain": [
              "Button(button_style='warning', description='Download to Device', style=ButtonStyle())"
            ],
            "application/vnd.jupyter.widget-view+json": {
              "version_major": 2,
              "version_minor": 0,
              "model_id": "94c6ff6761a14bffbeaeee6fe3d40056"
            }
          },
          "metadata": {}
        },
        {
          "output_type": "display_data",
          "data": {
            "text/plain": [
              "Output()"
            ],
            "application/vnd.jupyter.widget-view+json": {
              "version_major": 2,
              "version_minor": 0,
              "model_id": "fc0e02292f434c9e8710177975c5467d"
            }
          },
          "metadata": {}
        },
        {
          "output_type": "display_data",
          "data": {
            "text/plain": [
              "<IPython.core.display.HTML object>"
            ],
            "text/html": [
              "<br><b>Or pick a sample for inspiration:</b>"
            ]
          },
          "metadata": {}
        },
        {
          "output_type": "display_data",
          "data": {
            "text/plain": [
              "Dropdown(description='Samples:', layout=Layout(width='400px'), options=('A futuristic city run by robots', 'An…"
            ],
            "application/vnd.jupyter.widget-view+json": {
              "version_major": 2,
              "version_minor": 0,
              "model_id": "8402ff82cd3a4720a77d4dc47f555914"
            }
          },
          "metadata": {}
        },
        {
          "output_type": "display_data",
          "data": {
            "text/plain": [
              "Button(button_style='primary', description='Insert Sample', style=ButtonStyle())"
            ],
            "application/vnd.jupyter.widget-view+json": {
              "version_major": 2,
              "version_minor": 0,
              "model_id": "a530ac19ad174d5697cddaeded0197cc"
            }
          },
          "metadata": {}
        }
      ]
    }
  ]
}